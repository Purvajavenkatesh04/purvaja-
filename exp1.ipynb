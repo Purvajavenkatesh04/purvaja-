{
  "nbformat": 4,
  "nbformat_minor": 0,
  "metadata": {
    "colab": {
      "provenance": [],
      "authorship_tag": "ABX9TyN16d1pgvg+0z0lnvFYWhUT",
      "include_colab_link": true
    },
    "kernelspec": {
      "name": "python3",
      "display_name": "Python 3"
    },
    "language_info": {
      "name": "python"
    }
  },
  "cells": [
    {
      "cell_type": "markdown",
      "metadata": {
        "id": "view-in-github",
        "colab_type": "text"
      },
      "source": [
        "<a href=\"https://colab.research.google.com/github/Purvajavenkatesh04/purvaja-/blob/main/exp1.ipynb\" target=\"_parent\"><img src=\"https://colab.research.google.com/assets/colab-badge.svg\" alt=\"Open In Colab\"/></a>"
      ]
    },
    {
      "cell_type": "code",
      "execution_count": 2,
      "metadata": {
        "colab": {
          "base_uri": "https://localhost:8080/"
        },
        "id": "bKnb7elfQuHz",
        "outputId": "edc7cd30-7b31-4192-f7ff-1bc06faad5be"
      },
      "outputs": [
        {
          "output_type": "stream",
          "name": "stdout",
          "text": [
            "Enter a number: 4\n",
            "move disk 1 from a to b\n",
            "move disk 2 from a to c\n",
            "move disk 1 from b to c\n",
            "move disk 3 from a to b\n",
            "move disk 1 from c to a\n",
            "move disk 2 from c to b\n",
            "move disk 1 from a to b\n",
            "move disk 4 from a to c\n",
            "move disk 1 from b to c\n",
            "move disk 2 from b to a\n",
            "move disk 1 from c to a\n",
            "move disk 3 from b to c\n",
            "move disk 1 from a to b\n",
            "move disk 2 from a to c\n",
            "move disk 1 from b to c\n"
          ]
        }
      ],
      "source": [
        "def tower(n, source, aux, target):\n",
        "    if n == 1:\n",
        "        print(f\"move disk 1 from {source} to {target}\")\n",
        "        return\n",
        "    tower(n - 1, source, target, aux)\n",
        "    print(f\"move disk {n} from {source} to {target}\")\n",
        "    tower(n - 1, aux, source, target)\n",
        "\n",
        "if __name__ == \"__main__\":\n",
        "    n = int(input(\"Enter a number: \"))\n",
        "    tower(n, 'a', 'b', 'c')\n"
      ]
    }
  ]
}